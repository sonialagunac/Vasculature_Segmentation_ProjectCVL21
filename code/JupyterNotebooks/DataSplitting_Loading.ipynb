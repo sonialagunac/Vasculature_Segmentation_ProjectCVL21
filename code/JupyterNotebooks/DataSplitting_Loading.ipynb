{
 "cells": [
  {
   "cell_type": "markdown",
   "id": "ce611ec0",
   "metadata": {},
   "source": [
    "## Importing libraries"
   ]
  },
  {
   "cell_type": "code",
   "execution_count": null,
   "id": "5943e031",
   "metadata": {},
   "outputs": [],
   "source": [
    "from skimage import io\n",
    "import numpy as np\n",
    "import matplotlib.pyplot as plt\n",
    "import h5py"
   ]
  },
  {
   "cell_type": "markdown",
   "id": "db7d19b5",
   "metadata": {},
   "source": [
    "## Data loading"
   ]
  },
  {
   "cell_type": "code",
   "execution_count": null,
   "id": "97a25939",
   "metadata": {},
   "outputs": [],
   "source": [
    "path_img = '/home/slaguna/Documents/semproject/input_data/HaftJavaherian_DeepVess2018_GroundTruthImage.tif'\n",
    "path_label = '/home/slaguna/Documents/semproject/input_data/HaftJavaherian_DeepVess2018_GroundTruthLabel.tif'\n",
    "save_path = '/home/slaguna/Documents/semproject/input_data/'\n",
    "im = io.imread(path_img) \n",
    "label = io.imread(path_label) \n",
    "print(im.shape)\n",
    "print(label.shape)"
   ]
  },
  {
   "cell_type": "markdown",
   "id": "cccbdcdc",
   "metadata": {},
   "source": [
    "## Splitting"
   ]
  },
  {
   "cell_type": "code",
   "execution_count": null,
   "id": "ea6438df",
   "metadata": {},
   "outputs": [],
   "source": [
    "#Repeat for DeepVess dataset and InHouse dataset\n",
    "folder = '/deepvess_slice/'"
   ]
  },
  {
   "cell_type": "code",
   "execution_count": null,
   "id": "90976fc5",
   "metadata": {},
   "outputs": [],
   "source": [
    "img_cut_75 = im[:,:int(0.75*im.shape[0]), :]\n",
    "label_cut_75 = label[:,:int(0.75*im.shape[0]), :]\n",
    "print(img_cut_75.shape)\n",
    "print(label_cut_75.shape)\n",
    "\n",
    "img_cut_25 = im[:,int(0.75*im.shape[0]):, :]\n",
    "label_cut_25 = label[:, int(0.75*im.shape[0]):, :]\n",
    "print(img_cut_25.shape)\n",
    "print(label_cut_25.shape)"
   ]
  },
  {
   "cell_type": "markdown",
   "id": "dd57cba3",
   "metadata": {},
   "source": [
    "## Input normalization"
   ]
  },
  {
   "cell_type": "code",
   "execution_count": null,
   "id": "dd57d1d3",
   "metadata": {},
   "outputs": [],
   "source": [
    "#Carried out in each model individually, stated here for reference and visualization purposes\n",
    "im_95=np.percentile(im, 95)\n",
    "\n",
    "f, axarr = plt.subplots(1,2,figsize=(15,15))\n",
    "axarr[0].imshow(im[90,:])\n",
    "axarr[0].set_title('label original')\n",
    "\n",
    "im[im>=im_95]=im_95\n",
    "im=np.divide(im,im_95)\n",
    "\n",
    "axarr[1].imshow(im[90,:])\n",
    "axarr[1].set_title('predicted image')"
   ]
  },
  {
   "cell_type": "markdown",
   "id": "e75896c6",
   "metadata": {},
   "source": [
    "## Saving.tif files"
   ]
  },
  {
   "cell_type": "code",
   "execution_count": null,
   "id": "7530ecac",
   "metadata": {},
   "outputs": [],
   "source": [
    "#Adapt output name to dataset\n",
    "io.imsave(save_path + folder + 'image_train/HaftJavaherian_DeepVess2018_GroundTruthImage_75.tif', img_cut_75, plugin='tifffile')\n",
    "io.imsave(save_path + folder + 'label_train/HaftJavaherian_DeepVess2018_GroundTruthLabel_75.tif', label_cut_75, plugin='tifffile')\n",
    "io.imsave(save_path + folder + 'image_test/HaftJavaherian_DeepVess2018_GroundTruthImage_25.tif', img_cut_25, plugin='tifffile')\n",
    "io.imsave(save_path + folder + 'label_test/HaftJavaherian_DeepVess2018_GroundTruthLabel_25.tif', label_cut_25, plugin='tifffile')"
   ]
  },
  {
   "cell_type": "markdown",
   "id": "63e8cad0",
   "metadata": {},
   "source": [
    "## Saving .h5 files for 3DUnet"
   ]
  },
  {
   "cell_type": "code",
   "execution_count": null,
   "id": "cd6ea859",
   "metadata": {},
   "outputs": [],
   "source": [
    "#Repeat for DeepVess dataset and InHouse dataset\n",
    "folder = '/deepvess_slice_h5/'"
   ]
  },
  {
   "cell_type": "code",
   "execution_count": null,
   "id": "275e6d7d",
   "metadata": {},
   "outputs": [],
   "source": [
    "f1 = h5py.File(save_path + folder + 'train/HaftJavaherian_DeepVess2018_GroundTruth_75.h5', 'a')\n",
    "dset11 = f1.create_dataset(\"raw\", data=img_cut_75)\n",
    "dset12 = f1.create_dataset(\"label\", data=label_cut_75)\n",
    "f1.close()\n",
    "\n",
    "f2 = h5py.File(save_path + folder + 'test/HaftJavaherian_DeepVess2018_GroundTruth_25.h5', 'a')\n",
    "dset21 = f2.create_dataset(\"raw\", data=img_cut_25)\n",
    "dset22 = f2.create_dataset(\"label\", data=label_cut_25)"
   ]
  }
 ],
 "metadata": {
  "kernelspec": {
   "display_name": "Python 3",
   "language": "python",
   "name": "python3"
  },
  "language_info": {
   "codemirror_mode": {
    "name": "ipython",
    "version": 3
   },
   "file_extension": ".py",
   "mimetype": "text/x-python",
   "name": "python",
   "nbconvert_exporter": "python",
   "pygments_lexer": "ipython3",
   "version": "3.7.10"
  }
 },
 "nbformat": 4,
 "nbformat_minor": 5
}

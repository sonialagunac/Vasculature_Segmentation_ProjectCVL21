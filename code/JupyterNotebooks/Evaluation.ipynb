{
 "cells": [
  {
   "cell_type": "markdown",
   "id": "4fdfcbab",
   "metadata": {},
   "source": [
    "## Loading evaluation functions"
   ]
  },
  {
   "cell_type": "code",
   "execution_count": null,
   "id": "036befdf",
   "metadata": {},
   "outputs": [],
   "source": [
    "import numpy as np\n",
    "import matplotlib.pyplot as plt\n",
    "import tifffile as T\n",
    "from skimage import io \n",
    "\n",
    "from scipy.spatial.distance import directed_hausdorff\n",
    "from skimage.morphology import ball, binary_dilation\n",
    "from skimage.metrics import hausdorff_distance\n",
    "from skimage import io\n",
    "from skimage.metrics import hausdorff_distance"
   ]
  },
  {
   "cell_type": "code",
   "execution_count": null,
   "id": "b061eefd",
   "metadata": {},
   "outputs": [],
   "source": [
    "def batch_intersection_union(predict, target, nclass=2, thr=0.5):\n",
    "    predict = predict > thr\n",
    "    mini = 1\n",
    "    maxi = nclass\n",
    "    nbins = nclass\n",
    "    predict = predict + 1\n",
    "    target = target + 1\n",
    "\n",
    "    predict = predict * (target > 0).astype(predict.dtype)\n",
    "    intersection = predict * (predict == target)\n",
    "    # areas of intersection and union\n",
    "    area_inter, _ = np.histogram(intersection, bins=nbins, range=(mini, maxi))\n",
    "    area_pred, _ = np.histogram(predict, bins=nbins, range=(mini, maxi))\n",
    "    area_lab, _ = np.histogram(target, bins=nbins, range=(mini, maxi))\n",
    "    area_union = area_pred + area_lab - area_inter\n",
    "    assert (area_inter <= area_union).all(), \\\n",
    "        \"Intersection area should be smaller than Union area\"\n",
    "    IoU = (np.float64(1.0) * area_inter / (np.spacing(1, dtype=np.float64) + area_union)).mean()\n",
    "    return IoU\n",
    "\n",
    "def batch_jaccard_index_and_dice_coefficient(predict, target, thr=0.5):\n",
    "    predict = predict > thr\n",
    "    predict = predict + 1\n",
    "    target = target + 1\n",
    "\n",
    "    tp = np.sum(((predict == 2) * (target == 2)) * (target > 0))\n",
    "    fp = np.sum(((predict == 2) * (target == 1)) * (target > 0))\n",
    "    fn = np.sum(((predict == 1) * (target == 2)) * (target > 0))\n",
    "    tn = np.sum(((predict == 1) * (target == 1)) * (target > 0))\n",
    "\n",
    "    ji = float(np.nan_to_num(tp / (tp + fp + fn)))\n",
    "    dice = float(np.nan_to_num(2 * tp / (2 * tp + fp + fn)))\n",
    "    return ji, dice\n",
    "\n",
    "def batch_precision_recall(predict, target, thr=0.5):\n",
    "    predict = predict > thr\n",
    "    predict = predict + 1\n",
    "    target = target + 1\n",
    "\n",
    "    tp = np.sum(((predict == 2) * (target == 2)) * (target > 0))\n",
    "    fp = np.sum(((predict == 2) * (target == 1)) * (target > 0))\n",
    "    fn = np.sum(((predict == 1) * (target == 2)) * (target > 0))\n",
    "\n",
    "    precision = float(np.nan_to_num(tp / (tp + fp)))\n",
    "    recall = float(np.nan_to_num(tp / (tp + fn)))\n",
    "    return precision, recall\n",
    "\n",
    "def batch_sens_spec(predict, target, thr=0.5):\n",
    "    predict = predict > thr\n",
    "    predict = predict + 1\n",
    "    target = target + 1\n",
    "\n",
    "    tp = np.sum(((predict == 2) * (target == 2)) * (target > 0))\n",
    "    fp = np.sum(((predict == 2) * (target == 1)) * (target > 0))\n",
    "    tn = np.sum(((predict == 1) * (target == 1)) * (target > 0))\n",
    "    fn = np.sum(((predict == 1) * (target == 2)) * (target > 0))\n",
    "\n",
    "    sensitivity = float(np.nan_to_num(tp / (tp + fn)))\n",
    "    specificity = float(np.nan_to_num(tn / (tn + fp)))\n",
    "    return sensitivity, specificity\n",
    "\n",
    "def batch_pix_accuracy(predict, target, thr=0.5):\n",
    "    predict = predict > thr\n",
    "    predict = predict + 1\n",
    "    target = target + 1\n",
    "    pixel_labeled = np.sum(target > 0)\n",
    "    pixel_correct = np.sum((predict == target) * (target > 0))\n",
    "    assert pixel_correct <= pixel_labeled, \\\n",
    "        \"Correct area should be smaller than Labeled\"\n",
    "    acc = np.float64(1.0) * pixel_correct / (np.spacing(1, dtype=np.float64) + pixel_labeled)\n",
    "    return acc"
   ]
  },
  {
   "cell_type": "markdown",
   "id": "580823b8",
   "metadata": {},
   "source": [
    "## Loading files"
   ]
  },
  {
   "cell_type": "code",
   "execution_count": null,
   "id": "ee82ec2d",
   "metadata": {},
   "outputs": [],
   "source": [
    "PATH = r'C:\\Users\\sonil\\PycharmProjects\\Semester project\\Data_output'"
   ]
  },
  {
   "cell_type": "markdown",
   "id": "9dd9f5ef",
   "metadata": {},
   "source": [
    "### Models"
   ]
  },
  {
   "cell_type": "markdown",
   "id": "a767d1f0",
   "metadata": {},
   "source": [
    "#### Segmentation"
   ]
  },
  {
   "cell_type": "code",
   "execution_count": null,
   "id": "42707401",
   "metadata": {},
   "outputs": [],
   "source": [
    "#Load output data from 3DUnet in this example\n",
    "#Tailor location of files for each model\n",
    "\n",
    "#original label\n",
    "img_path = '/home/slaguna/Documents/semproject/input_data/deepvess_slice/label_test/HaftJavaherian_DeepVess2018_GroundTruthLabel_25.tif'\n",
    "img=np.divide(T.imread(img_path),np.amax(T.imread(img_path)))\n",
    "\n",
    "#output prediction\n",
    "out_path = '/home/slaguna/Documents/semproject/outputs/3dunet_DV_output.tif'\n",
    "out=T.imread(out_path)\n",
    "\n",
    "f, axarr = plt.subplots(1,2,figsize=(15,15))\n",
    "axarr[0].imshow(img[90,:])\n",
    "axarr[0].set_title('label original')\n",
    "axarr[1].imshow(out[90,:])\n",
    "axarr[1].set_title('predicted image')"
   ]
  },
  {
   "cell_type": "markdown",
   "id": "1b98486c",
   "metadata": {},
   "source": [
    "#### Loss"
   ]
  },
  {
   "cell_type": "code",
   "execution_count": null,
   "id": "b0909f03",
   "metadata": {},
   "outputs": [],
   "source": [
    "#Load stored loss\n",
    "loss=np.load(r'C:\\Users\\sonil\\PycharmProjects\\Semester_project\\Data_output\\loss\\loss_DV_inhouse.npy')\n",
    "plt.plot(loss)\n",
    "plt.title('Loss: DeepVess architecture trained on InHouse data')\n",
    "plt.show()"
   ]
  },
  {
   "cell_type": "markdown",
   "id": "f63beff5",
   "metadata": {},
   "source": [
    "## Evaluating segmentations"
   ]
  },
  {
   "cell_type": "code",
   "execution_count": null,
   "id": "d99322fc",
   "metadata": {},
   "outputs": [],
   "source": [
    " batch_intersection_union(out, img)"
   ]
  },
  {
   "cell_type": "code",
   "execution_count": null,
   "id": "17b4b677",
   "metadata": {},
   "outputs": [],
   "source": [
    "batch_jaccard_index_and_dice_coefficient(out, img)"
   ]
  },
  {
   "cell_type": "code",
   "execution_count": null,
   "id": "23fff7a6",
   "metadata": {},
   "outputs": [],
   "source": [
    "batch_precision_recall(out,img)"
   ]
  },
  {
   "cell_type": "code",
   "execution_count": null,
   "id": "0355f847",
   "metadata": {},
   "outputs": [],
   "source": [
    "f1_score(out, img)"
   ]
  },
  {
   "cell_type": "code",
   "execution_count": null,
   "id": "dd19ae15",
   "metadata": {},
   "outputs": [],
   "source": [
    "batch_sens_spec(out, img)"
   ]
  },
  {
   "cell_type": "code",
   "execution_count": null,
   "id": "ae806409",
   "metadata": {},
   "outputs": [],
   "source": [
    "batch_pix_accuracy(out, img)"
   ]
  },
  {
   "cell_type": "markdown",
   "id": "20832453",
   "metadata": {},
   "source": [
    "## Evaluating skeleton"
   ]
  },
  {
   "cell_type": "code",
   "execution_count": null,
   "id": "3a35df57",
   "metadata": {},
   "outputs": [],
   "source": [
    "#Location of extracted skeleton, i.e. coming from TopoDV model\n",
    "skel = io.imread(r'C:\\Users\\sonil\\PycharmProjects\\Semester_project\\Data_output\\skeleton\\skeleton_IH_topoDV_25.tif')\n",
    "#skel = io.imread(r'C:\\Users\\sonil\\PycharmProjects\\Semester project\\Data_output\\skeleton\\skeleton_IH_UMIS_25.tif')\n",
    "#skel = io.imread(r'C:\\Users\\sonil\\PycharmProjects\\Semester project\\Data_output\\skeleton\\skeleton_25_trainedDV.tif')\n",
    "\n",
    "#Groundtruth skeleton location \n",
    "targ = io.imread(r'C:\\Users\\sonil\\PycharmProjects\\Semester_project\\Data_output\\skeleton\\skeleton_test25.tif')\n"
   ]
  },
  {
   "cell_type": "code",
   "execution_count": null,
   "id": "8585b7e8",
   "metadata": {},
   "outputs": [],
   "source": [
    "#First dilation to avoid outliers Dice score\n",
    "skel=binary_dilation(skel, ball(5))\n",
    "targ=binary_dilation(targ, ball(5))\n",
    "\n",
    "print('Jaccard index and Dice Score:' , batch_jaccard_index_and_dice_coefficient(skel, targ) )\n",
    "print('Hausdorff distance:', hausdorff_distance(skel,targ))\n"
   ]
  }
 ],
 "metadata": {
  "kernelspec": {
   "display_name": "Python 3",
   "language": "python",
   "name": "python3"
  },
  "language_info": {
   "codemirror_mode": {
    "name": "ipython",
    "version": 3
   },
   "file_extension": ".py",
   "mimetype": "text/x-python",
   "name": "python",
   "nbconvert_exporter": "python",
   "pygments_lexer": "ipython3",
   "version": "3.7.10"
  }
 },
 "nbformat": 4,
 "nbformat_minor": 5
}
